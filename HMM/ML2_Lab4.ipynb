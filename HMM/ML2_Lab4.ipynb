{
 "cells": [
  {
   "cell_type": "markdown",
   "metadata": {
    "colab_type": "text",
    "id": "N3HM1WckFvKf"
   },
   "source": [
    "# HMM (Hidden Markov Model)"
   ]
  },
  {
   "cell_type": "code",
   "execution_count": 1,
   "metadata": {
    "colab": {},
    "colab_type": "code",
    "id": "Mbey89OvNhoo"
   },
   "outputs": [],
   "source": [
    "import numpy as np"
   ]
  },
  {
   "cell_type": "markdown",
   "metadata": {
    "colab_type": "text",
    "id": "4602vXuJF8IL"
   },
   "source": [
    "## 1. Initialisation"
   ]
  },
  {
   "cell_type": "code",
   "execution_count": 2,
   "metadata": {
    "colab": {},
    "colab_type": "code",
    "id": "vo1ZnyuDFstN"
   },
   "outputs": [],
   "source": [
    "a_ij =  np.array([[1, 0, 0, 0], [0.2, 0.3, 0.1, 0.4], [0.2, 0.5, 0.2, 0.1],[0.7, 0.1, 0.1, 0.1]])\n",
    "b_jk = np.array([[1, 0, 0, 0,0], [0, 0.3, 0.4, 0.1, 0.2],[0, 0.1, 0.1, 0.7, 0.1],[0, 0.5, 0.2 ,0.1, 0.2]])"
   ]
  },
  {
   "cell_type": "markdown",
   "metadata": {
    "colab_type": "text",
    "id": "qdHVRn_hPIa_"
   },
   "source": [
    "## 2. Evaluation problem"
   ]
  },
  {
   "cell_type": "code",
   "execution_count": 3,
   "metadata": {
    "colab": {},
    "colab_type": "code",
    "id": "DZANesscGnx6"
   },
   "outputs": [],
   "source": [
    "def forward_eval(initial_state,a_ij,b_jk,X_seq=0):\n",
    "    N = max(a_ij.shape[0],b_jk.shape[0]) #get the max value between the length of both matrixes, corresponds to the total number of j states named N \n",
    "    T = max(a_ij.shape[1],b_jk.shape[1])   #get the max value between the width of both matrixes, corresponds to the total time T of the sequence\n",
    "    alpha = np.zeros((N,T)) #initialize alpha_j\n",
    "    #alpha is of the form alpha[j][t] with j=0,..,N and t=0,...,T\n",
    "    alpha[initial_state][0] = 1 #initialize initial_state to 1\n",
    "    for t in range(1,T):\n",
    "        for j in range(N):\n",
    "            sum_prev = 0\n",
    "            for k in range(N):\n",
    "                sum_prev += alpha[k][t-1]*a_ij[k][j]\n",
    "            k = X_seq[t-1]\n",
    "            alpha[j][t]+= sum_prev * b_jk[j][k]\n",
    "    return alpha"
   ]
  },
  {
   "cell_type": "code",
   "execution_count": 4,
   "metadata": {
    "colab": {
     "base_uri": "https://localhost:8080/",
     "height": 90
    },
    "colab_type": "code",
    "id": "HufhVEU_kXVW",
    "outputId": "e8ea9d7c-5325-4985-ffa5-12ee4d32da10"
   },
   "outputs": [
    {
     "name": "stdout",
     "output_type": "stream",
     "text": [
      "[[0.0000e+00 0.0000e+00 0.0000e+00 0.0000e+00 1.8218e-03]\n",
      " [1.0000e+00 9.0000e-02 5.2000e-03 5.1920e-03 0.0000e+00]\n",
      " [0.0000e+00 1.0000e-02 2.1700e-02 5.4300e-04 0.0000e+00]\n",
      " [0.0000e+00 2.0000e-01 5.7000e-03 9.6400e-04 0.0000e+00]]\n"
     ]
    }
   ],
   "source": [
    "X_seq=[1,3,2,0]\n",
    "initial_state = 1\n",
    "alpha = forward_eval(initial_state,a_ij,b_jk,X_seq)\n",
    "print(alpha)"
   ]
  },
  {
   "cell_type": "markdown",
   "metadata": {
    "colab_type": "text",
    "id": "FR3pwWt9SHMy"
   },
   "source": [
    "#### Predict forward algorithm\n"
   ]
  },
  {
   "cell_type": "code",
   "execution_count": 5,
   "metadata": {
    "colab": {
     "base_uri": "https://localhost:8080/",
     "height": 35
    },
    "colab_type": "code",
    "id": "h6Ep4pZfSFrO",
    "outputId": "b1b01352-92e2-46b2-9e4b-e0192973f83c"
   },
   "outputs": [],
   "source": [
    "#Je crois qu'on prends la case j=0 t=T\n",
    "def predict(alpha,T=len(alpha)):\n",
    "      return(alpha[0][T])"
   ]
  },
  {
   "cell_type": "code",
   "execution_count": 6,
   "metadata": {},
   "outputs": [
    {
     "name": "stdout",
     "output_type": "stream",
     "text": [
      "Probability of sequence  [1, 3, 2, 0]  :  0.0018218000000000002\n"
     ]
    }
   ],
   "source": [
    "print(\"Probability of sequence \",[val for val in X_seq],\" : \", predict(alpha))"
   ]
  },
  {
   "cell_type": "markdown",
   "metadata": {
    "colab_type": "text",
    "id": "_NcpjqjJSPLO"
   },
   "source": [
    "## 3. Decoding problem"
   ]
  },
  {
   "cell_type": "code",
   "execution_count": 7,
   "metadata": {
    "colab": {},
    "colab_type": "code",
    "id": "pgqQm37hl9s4"
   },
   "outputs": [],
   "source": [
    "#on reprend la matrice alpha construite precedemment et on prend l'index des plus hautes valeurs\n",
    "def forward_decoding(alpha):\n",
    "    path = []\n",
    "    for col in alpha.T: #we iterate through all the columns of alpha\n",
    "        index = np.argmax(col) #take the index of the highest value of the current column\n",
    "        path.append(index) # add to path\n",
    "    return path"
   ]
  },
  {
   "cell_type": "code",
   "execution_count": 8,
   "metadata": {
    "colab": {
     "base_uri": "https://localhost:8080/",
     "height": 35
    },
    "colab_type": "code",
    "id": "IkpMjn8UUMrD",
    "outputId": "45338aac-efd8-47d1-ba71-acf562c67a9d"
   },
   "outputs": [
    {
     "data": {
      "text/plain": [
       "[1, 3, 2, 1, 0]"
      ]
     },
     "execution_count": 8,
     "metadata": {},
     "output_type": "execute_result"
    }
   ],
   "source": [
    "forward_decoding(alpha)"
   ]
  }
 ],
 "metadata": {
  "colab": {
   "collapsed_sections": [],
   "name": "ML_LAB4.ipynb",
   "provenance": []
  },
  "kernelspec": {
   "display_name": "Python 3",
   "language": "python",
   "name": "python3"
  },
  "language_info": {
   "codemirror_mode": {
    "name": "ipython",
    "version": 3
   },
   "file_extension": ".py",
   "mimetype": "text/x-python",
   "name": "python",
   "nbconvert_exporter": "python",
   "pygments_lexer": "ipython3",
   "version": "3.7.3"
  }
 },
 "nbformat": 4,
 "nbformat_minor": 1
}
