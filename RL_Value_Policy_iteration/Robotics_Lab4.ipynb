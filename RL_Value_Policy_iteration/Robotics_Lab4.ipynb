{
 "cells": [
  {
   "cell_type": "markdown",
   "metadata": {},
   "source": [
    "# INF518 Artificial Intelligence / Lab\n",
    "## Reinforcement Learning"
   ]
  },
  {
   "cell_type": "code",
   "execution_count": 1,
   "metadata": {},
   "outputs": [],
   "source": [
    "import numpy as np\n",
    "from numpy.linalg import inv\n",
    "import matplotlib.pyplot as plt"
   ]
  },
  {
   "cell_type": "code",
   "execution_count": 2,
   "metadata": {},
   "outputs": [
    {
     "data": {
      "text/plain": [
       "(array(['N', 'S', 'E', 'W'], dtype='<U1'), (11, 2))"
      ]
     },
     "execution_count": 2,
     "metadata": {},
     "output_type": "execute_result"
    }
   ],
   "source": [
    "epsilon = 0.001\n",
    "gamma = 0.99                                                                   # Discount factor\n",
    "A = np.array(['N','S','E','W'])                                                   # Set of actions\n",
    "S = np.array([[1,1],[1,2],[1,3],[1,4],[2,1],[2,3],[2,4],[3,1],[3,2],[3,3],[3,4]]) # [2,2] is not possible\n",
    "A,S.shape"
   ]
  },
  {
   "cell_type": "code",
   "execution_count": 3,
   "metadata": {},
   "outputs": [],
   "source": [
    "def R(s):\n",
    "    if(np.array_equal(s,[3,4])):\n",
    "        r = 1\n",
    "    elif(np.array_equal(s,[2,4])):\n",
    "        r = -1\n",
    "    else:\n",
    "        r = -0.02\n",
    "    return r"
   ]
  },
  {
   "cell_type": "code",
   "execution_count": 4,
   "metadata": {},
   "outputs": [],
   "source": [
    "def row_col(s):      # Return a pair of coordinates for a given state ex: [2,1] -> 2,1\n",
    "    return s[0],s[1]"
   ]
  },
  {
   "cell_type": "code",
   "execution_count": 5,
   "metadata": {},
   "outputs": [],
   "source": [
    "def next_states(s):                      # Return possible next states (surrounding cells)\n",
    "    row,col = row_col(s)  \n",
    "    return np.array([[row+1,col],[row-1,col],[row,col+1],[row,col-1]]).astype(int)"
   ]
  },
  {
   "cell_type": "code",
   "execution_count": 6,
   "metadata": {},
   "outputs": [],
   "source": [
    "def Psa(s,a,s_nxt):                  # Return the probability that the Agent at state s end up on a state s_nxt by performing an action a\n",
    "    row,col = row_col(s)             # Current state coordinates\n",
    "    row_nxt,col_nxt = row_col(s_nxt) # Objective state coordinates\n",
    "    if (a == 'N'):\n",
    "        if(row+1 == row_nxt):        # Action North going to North cell\n",
    "            p = 0.8\n",
    "        elif(row-1 == row_nxt):      # Action North going to South cell\n",
    "            p = 0\n",
    "        else:\n",
    "            p = 0.1\n",
    "    elif (a == 'S'):\n",
    "        if(row-1 == row_nxt):        # Action South going to South cell\n",
    "            p = 0.8\n",
    "        elif(row+1 == row_nxt):      # Action South going to North cell\n",
    "            p = 0\n",
    "        else:\n",
    "            p = 0.1\n",
    "    elif (a == 'E'):\n",
    "        if(col+1 == col_nxt):        # Action East going to East cell\n",
    "            p = 0.8\n",
    "        elif(col-1 == col_nxt):      # Action East going to West cell\n",
    "            p = 0\n",
    "        else:\n",
    "            p = 0.1\n",
    "    else:\n",
    "        if(col-1 == col_nxt):        # Action West going to West cell\n",
    "            p = 0.8\n",
    "        elif(col+1 == col_nxt):      # Action West going to East cell\n",
    "            p = 0\n",
    "        else:\n",
    "            p = 0.1\n",
    "    return p"
   ]
  },
  {
   "cell_type": "code",
   "execution_count": 7,
   "metadata": {},
   "outputs": [],
   "source": [
    "def display_functions(V,pi):\n",
    "    fig, ax = plt.subplots()\n",
    "    ax.matshow(V, cmap=plt.cm.Blues)\n",
    "    fig.gca().invert_yaxis()\n",
    "    for i in range(V.shape[0]):\n",
    "        for j in range(V.shape[1]):\n",
    "            ax.text(j, i, pi[i,j], va='center', ha='center')"
   ]
  },
  {
   "cell_type": "code",
   "execution_count": 8,
   "metadata": {},
   "outputs": [],
   "source": [
    "def display_V(V):\n",
    "    fig, ax = plt.subplots()\n",
    "    ax.matshow(V, cmap=plt.cm.Blues)\n",
    "    fig.gca().invert_yaxis()"
   ]
  },
  {
   "cell_type": "markdown",
   "metadata": {},
   "source": [
    "### 1) For all states, find the optimal value function V∗(s) and the optimal policy function π∗(s) using the value iteration algorithm."
   ]
  },
  {
   "cell_type": "code",
   "execution_count": 9,
   "metadata": {},
   "outputs": [],
   "source": [
    "def converged(V,V_old,epsilon):\n",
    "    delta = np.absolute(V - V_old)      # Calculate each differences\n",
    "    if (np.sum(delta >= epsilon) == 0): # Check if all differences > epsilon\n",
    "        return True                    # Each values have not changed significally since last update\n",
    "    else:\n",
    "        return False                    # Some values have changed significally"
   ]
  },
  {
   "cell_type": "code",
   "execution_count": 10,
   "metadata": {},
   "outputs": [],
   "source": [
    "def value_iteration_algorithm(V,epsilon,gamma,S,A):\n",
    "    V_old = np.zeros((3,4))\n",
    "    i = 0\n",
    "    while(converged(V,V_old,epsilon) == False ):                             # While the value function hasn't converged\n",
    "        i +=1\n",
    "        display_V(V)\n",
    "        V_old = np.copy(V)\n",
    "        for s in S:\n",
    "            if(not np.array_equal(s,[3,4]) and not np.array_equal(s,[2,4])): # If state is not a final state\n",
    "                row,col = row_col(s)                                         #   Get state coordinate\n",
    "                V_tot = []\n",
    "                S_nxt = next_states(s)                                       #   Get nearby cells\n",
    "                for a in A:                                                  #   For every actions\n",
    "                    V_a = 0                                                  #     Sum of values for an action\n",
    "                    for s_nxt in S_nxt:                                      #       For every next states\n",
    "                        row_nxt,col_nxt = row_col(s_nxt)                     #         Get next state coordinates\n",
    "                        if(any(np.array_equal(s_nxt, s) for s in S)):        #         if it is included in possible states S\n",
    "                            V_a += Psa(s,a,s_nxt)*V[row_nxt-1,col_nxt-1]     #           update Value with next state value function\n",
    "                        else:                                                #         if it is outside the possible states S\n",
    "                            V_a += Psa(s,a,s_nxt)*V[row-1,col-1]             #           update values with current state value function ( the agent hasn't moved)\n",
    "                    V_tot = np.append(V_tot,V_a)                             #     add value result of every actions\n",
    "                V[row-1,col-1] = R(s) + gamma*np.amax(V_tot)                 #   update value of current state with biggest value amongst actions\n",
    "    print('iterations = ',i)\n",
    "    return V"
   ]
  },
  {
   "cell_type": "markdown",
   "metadata": {},
   "source": [
    "### Initialize Value function"
   ]
  },
  {
   "cell_type": "code",
   "execution_count": 11,
   "metadata": {},
   "outputs": [
    {
     "data": {
      "text/plain": [
       "array([[ 0.,  0.,  0.,  0.],\n",
       "       [ 0.,  0.,  0., -1.],\n",
       "       [ 0.,  0.,  0.,  1.]])"
      ]
     },
     "execution_count": 11,
     "metadata": {},
     "output_type": "execute_result"
    }
   ],
   "source": [
    "V = np.zeros((3,4))\n",
    "V[2,3] = 1\n",
    "V[1,3] = -1\n",
    "V"
   ]
  },
  {
   "cell_type": "markdown",
   "metadata": {},
   "source": [
    "### Run value iteration algorithm"
   ]
  },
  {
   "cell_type": "code",
   "execution_count": 12,
   "metadata": {},
   "outputs": [
    {
     "name": "stdout",
     "output_type": "stream",
     "text": [
      "iterations =  14\n"
     ]
    },
    {
     "data": {
      "image/png": "[encoded data removed]",
      "text/plain": [
       "<Figure size 432x288 with 1 Axes>"
      ]
     },
     "metadata": {
      "needs_background": "light"
     },
     "output_type": "display_data"
    },
    {
     "data": {
      "image/png": "[encoded data removed]",
      "text/plain": [
       "<Figure size 432x288 with 1 Axes>"
      ]
     },
     "metadata": {
      "needs_background": "light"
     },
     "output_type": "display_data"
    },
    {
     "data": {
      "image/png": "[encoded data removed]",
      "text/plain": [
       "<Figure size 432x288 with 1 Axes>"
      ]
     },
     "metadata": {
      "needs_background": "light"
     },
     "output_type": "display_data"
    },
    {
     "data": {
      "image/png": "[encoded data removed]",
      "text/plain": [
       "<Figure size 432x288 with 1 Axes>"
      ]
     },
     "metadata": {
      "needs_background": "light"
     },
     "output_type": "display_data"
    },
    {
     "data": {
      "image/png": "[encoded data removed]",
      "text/plain": [
       "<Figure size 432x288 with 1 Axes>"
      ]
     },
     "metadata": {
      "needs_background": "light"
     },
     "output_type": "display_data"
    },
    {
     "data": {
      "image/png": "[encoded data removed]",
      "text/plain": [
       "<Figure size 432x288 with 1 Axes>"
      ]
     },
     "metadata": {
      "needs_background": "light"
     },
     "output_type": "display_data"
    },
    {
     "data": {
      "image/png": "[encoded data removed]",
      "text/plain": [
       "<Figure size 432x288 with 1 Axes>"
      ]
     },
     "metadata": {
      "needs_background": "light"
     },
     "output_type": "display_data"
    },
    {
     "data": {
      "image/png": "[encoded data removed]",
      "text/plain": [
       "<Figure size 432x288 with 1 Axes>"
      ]
     },
     "metadata": {
      "needs_background": "light"
     },
     "output_type": "display_data"
    },
    {
     "data": {
      "image/png": "[encoded data removed]",
      "text/plain": [
       "<Figure size 432x288 with 1 Axes>"
      ]
     },
     "metadata": {
      "needs_background": "light"
     },
     "output_type": "display_data"
    },
    {
     "data": {
      "image/png": "[encoded data removed]",
      "text/plain": [
       "<Figure size 432x288 with 1 Axes>"
      ]
     },
     "metadata": {
      "needs_background": "light"
     },
     "output_type": "display_data"
    },
    {
     "data": {
      "image/png": "[encoded data removed]",
      "text/plain": [
       "<Figure size 432x288 with 1 Axes>"
      ]
     },
     "metadata": {
      "needs_background": "light"
     },
     "output_type": "display_data"
    },
    {
     "data": {
      "image/png": "[encoded data removed]",
      "text/plain": [
       "<Figure size 432x288 with 1 Axes>"
      ]
     },
     "metadata": {
      "needs_background": "light"
     },
     "output_type": "display_data"
    },
    {
     "data": {
      "image/png": "[encoded data removed]",
      "text/plain": [
       "<Figure size 432x288 with 1 Axes>"
      ]
     },
     "metadata": {
      "needs_background": "light"
     },
     "output_type": "display_data"
    },
    {
     "data": {
      "image/png": "[encoded data removed]",
      "text/plain": [
       "<Figure size 432x288 with 1 Axes>"
      ]
     },
     "metadata": {
      "needs_background": "light"
     },
     "output_type": "display_data"
    }
   ],
   "source": [
    "V = value_iteration_algorithm(V,epsilon,gamma,S,A)"
   ]
  },
  {
   "cell_type": "markdown",
   "metadata": {},
   "source": [
    "### Display optimized Value function"
   ]
  },
  {
   "cell_type": "code",
   "execution_count": 13,
   "metadata": {},
   "outputs": [
    {
     "data": {
      "text/plain": [
       "array([[ 0.78011313,  0.74533707,  0.70845873,  0.49061977],\n",
       "       [ 0.81968415,  0.        ,  0.68749633, -1.        ],\n",
       "       [ 0.85529895,  0.89580322,  0.93236641,  1.        ]])"
      ]
     },
     "execution_count": 13,
     "metadata": {},
     "output_type": "execute_result"
    }
   ],
   "source": [
    "V"
   ]
  },
  {
   "cell_type": "markdown",
   "metadata": {},
   "source": [
    "### Compute policy"
   ]
  },
  {
   "cell_type": "code",
   "execution_count": 14,
   "metadata": {},
   "outputs": [
    {
     "data": {
      "text/plain": [
       "array([['N', 'S', 'W', 'S'],\n",
       "       ['W', 'W', 'W', 'N'],\n",
       "       ['E', 'N', 'N', 'S']], dtype='<U1')"
      ]
     },
     "execution_count": 14,
     "metadata": {},
     "output_type": "execute_result"
    }
   ],
   "source": [
    "pi = np.random.choice(A, (3,4))\n",
    "pi"
   ]
  },
  {
   "cell_type": "code",
   "execution_count": 15,
   "metadata": {},
   "outputs": [
    {
     "data": {
      "image/png": "[encoded data removed]",
      "text/plain": [
       "<Figure size 432x288 with 1 Axes>"
      ]
     },
     "metadata": {
      "needs_background": "light"
     },
     "output_type": "display_data"
    }
   ],
   "source": [
    "for s in S:\n",
    "    S_nxt = next_states(s)\n",
    "    values = []\n",
    "    for s_nxt in S_nxt:\n",
    "        if(any(np.array_equal(s_nxt, s) for s in S)):\n",
    "            row_nxt,col_nxt = row_col(s_nxt)\n",
    "            values = np.append(values, V[row_nxt-1,col_nxt-1])\n",
    "        else:\n",
    "            values = np.append(values,-2)\n",
    "    a = np.argmax(values)\n",
    "    row,col = row_col(s)\n",
    "    if(a == 0):\n",
    "        pi[row-1,col-1] = 'N'\n",
    "    elif(a == 1):\n",
    "        pi[row-1,col-1] = 'S'\n",
    "    elif(a == 2):\n",
    "        pi[row-1,col-1] = 'E'\n",
    "    else:\n",
    "        pi[row-1,col-1] = 'W'\n",
    "pi[2,3] = ' '\n",
    "pi[1,3] = ' '\n",
    "pi[1,1] = ' '\n",
    "display_functions(V,pi)"
   ]
  },
  {
   "cell_type": "markdown",
   "metadata": {},
   "source": [
    "### 2) For all states, find the optimal value function V∗(s) and the optimal policy function π∗(s) using the policy iteration algorithm."
   ]
  },
  {
   "cell_type": "code",
   "execution_count": 16,
   "metadata": {},
   "outputs": [],
   "source": [
    "def converged_2(pi,pi_old):\n",
    "    if (np.array_equal(pi,pi_old)):     \n",
    "        return True                 # No values have changed since last update\n",
    "    else:\n",
    "        return False                # Some values have changed significally"
   ]
  },
  {
   "cell_type": "code",
   "execution_count": 17,
   "metadata": {},
   "outputs": [],
   "source": [
    "def policy_iteration_algorithm(pi,gamma,V,S,A):\n",
    "    V_old = np.zeros((3,4))\n",
    "    i=0\n",
    "    while(converged(V,V_old,epsilon) == False ):\n",
    "        i+=1\n",
    "        display_functions(V,pi)\n",
    "        # Update V\n",
    "        V_old = np.copy(V)\n",
    "        for s in S:\n",
    "            if(not np.array_equal(s,[3,4]) and not np.array_equal(s,[2,4])):\n",
    "                row,col = row_col(s)\n",
    "                S_nxt = next_states(s)\n",
    "                Sum = 0\n",
    "                for s_nxt in S_nxt:                                         #       For every next states\n",
    "                    row_nxt,col_nxt = row_col(s_nxt)                        #         Get next state coordinates\n",
    "                    if(any(np.array_equal(s_nxt, s) for s in S)):           #         if it is included in possible states S\n",
    "                        Sum += Psa(s,pi[row-1,col-1],s_nxt)*V[row_nxt-1,col_nxt-1]     #           update Value with next state value function\n",
    "                    else:                                                   #         if it is outside the possible states S\n",
    "                        Sum += Psa(s,pi[row-1,col-1],s_nxt)*V[row-1,col-1]\n",
    "                V[row-1,col-1] = R(s)+gamma*Sum\n",
    "        \n",
    "        # Update pi\n",
    "        for s in S:\n",
    "            if(not np.array_equal(s,[3,4]) and not np.array_equal(s,[2,4])):\n",
    "                row,col = row_col(s)\n",
    "                S_nxt = next_states(s)                                       #   Get nearby cells\n",
    "                V_tot = []\n",
    "                for a in A:                                                  #   For every actions\n",
    "                    V_a = 0                                                  #     Sum of values for an action\n",
    "                    for s_nxt in S_nxt:                                      #       For every next states\n",
    "                        row_nxt,col_nxt = row_col(s_nxt)                     #         Get next state coordinates\n",
    "                        if(any(np.array_equal(s_nxt, s) for s in S)):        #         if it is included in possible states S\n",
    "                            V_a += Psa(s,a,s_nxt)*V[row_nxt-1,col_nxt-1]     #           update Value with next state value function\n",
    "                        else:                                                #         if it is outside the possible states S\n",
    "                            V_a += Psa(s,a,s_nxt)*V[row-1,col-1]             #           update values with current state value function ( the agent hasn't moved)\n",
    "                    V_tot = np.append(V_tot,V_a)\n",
    "                pi_s = np.argmax(V_tot)\n",
    "                if(pi_s == 0):\n",
    "                    pi[row-1,col-1] = 'N'\n",
    "                elif(pi_s == 1):\n",
    "                    pi[row-1,col-1] = 'S'\n",
    "                elif(pi_s == 2):\n",
    "                    pi[row-1,col-1] = 'E'\n",
    "                else:\n",
    "                    pi[row-1,col-1] = 'W'\n",
    "                pi[2,3] = ' '\n",
    "                pi[1,3] = ' '\n",
    "                pi[1,1] = ' '\n",
    "    print('iterations = ',i)\n",
    "    return V,pi"
   ]
  },
  {
   "cell_type": "code",
   "execution_count": 18,
   "metadata": {},
   "outputs": [],
   "source": [
    "pi = np.random.choice(A, (3,4))\n",
    "pi[2,3] = ' '\n",
    "pi[1,3] = ' '\n",
    "pi[1,1] = ' '"
   ]
  },
  {
   "cell_type": "code",
   "execution_count": 19,
   "metadata": {},
   "outputs": [],
   "source": [
    "V = np.zeros((3,4))\n",
    "V[2,3] = 1\n",
    "V[1,3] = -1"
   ]
  },
  {
   "cell_type": "code",
   "execution_count": 20,
   "metadata": {},
   "outputs": [
    {
     "name": "stdout",
     "output_type": "stream",
     "text": [
      "iterations =  15\n"
     ]
    },
    {
     "data": {
      "image/png": "[encoded data removed]",
      "text/plain": [
       "<Figure size 432x288 with 1 Axes>"
      ]
     },
     "metadata": {
      "needs_background": "light"
     },
     "output_type": "display_data"
    },
    {
     "data": {
      "image/png": "[encoded data removed]",
      "text/plain": [
       "<Figure size 432x288 with 1 Axes>"
      ]
     },
     "metadata": {
      "needs_background": "light"
     },
     "output_type": "display_data"
    },
    {
     "data": {
      "image/png": "[encoded data removed]",
      "text/plain": [
       "<Figure size 432x288 with 1 Axes>"
      ]
     },
     "metadata": {
      "needs_background": "light"
     },
     "output_type": "display_data"
    },
    {
     "data": {
      "image/png": "[encoded data removed]",
      "text/plain": [
       "<Figure size 432x288 with 1 Axes>"
      ]
     },
     "metadata": {
      "needs_background": "light"
     },
     "output_type": "display_data"
    },
    {
     "data": {
      "image/png": "[encoded data removed]",
      "text/plain": [
       "<Figure size 432x288 with 1 Axes>"
      ]
     },
     "metadata": {
      "needs_background": "light"
     },
     "output_type": "display_data"
    },
    {
     "data": {
      "image/png": "[encoded data removed]",
      "text/plain": [
       "<Figure size 432x288 with 1 Axes>"
      ]
     },
     "metadata": {
      "needs_background": "light"
     },
     "output_type": "display_data"
    },
    {
     "data": {
      "image/png": "[encoded data removed]",
      "text/plain": [
       "<Figure size 432x288 with 1 Axes>"
      ]
     },
     "metadata": {
      "needs_background": "light"
     },
     "output_type": "display_data"
    },
    {
     "data": {
      "image/png": "[encoded data removed]",
      "text/plain": [
       "<Figure size 432x288 with 1 Axes>"
      ]
     },
     "metadata": {
      "needs_background": "light"
     },
     "output_type": "display_data"
    },
    {
     "data": {
      "image/png": "[encoded data removed]",
      "text/plain": [
       "<Figure size 432x288 with 1 Axes>"
      ]
     },
     "metadata": {
      "needs_background": "light"
     },
     "output_type": "display_data"
    },
    {
     "data": {
      "image/png": "[encoded data removed]",
      "text/plain": [
       "<Figure size 432x288 with 1 Axes>"
      ]
     },
     "metadata": {
      "needs_background": "light"
     },
     "output_type": "display_data"
    },
    {
     "data": {
      "image/png": "[encoded data removed]",
      "text/plain": [
       "<Figure size 432x288 with 1 Axes>"
      ]
     },
     "metadata": {
      "needs_background": "light"
     },
     "output_type": "display_data"
    },
    {
     "data": {
      "image/png": "[encoded data removed]",
      "text/plain": [
       "<Figure size 432x288 with 1 Axes>"
      ]
     },
     "metadata": {
      "needs_background": "light"
     },
     "output_type": "display_data"
    },
    {
     "data": {
      "image/png": "[encoded data removed]",
      "text/plain": [
       "<Figure size 432x288 with 1 Axes>"
      ]
     },
     "metadata": {
      "needs_background": "light"
     },
     "output_type": "display_data"
    },
    {
     "data": {
      "image/png": "[encoded data removed]",
      "text/plain": [
       "<Figure size 432x288 with 1 Axes>"
      ]
     },
     "metadata": {
      "needs_background": "light"
     },
     "output_type": "display_data"
    },
    {
     "data": {
      "image/png": "[encoded data removed]",
      "text/plain": [
       "<Figure size 432x288 with 1 Axes>"
      ]
     },
     "metadata": {
      "needs_background": "light"
     },
     "output_type": "display_data"
    }
   ],
   "source": [
    "V,pi = policy_iteration_algorithm(pi,gamma,V,S,A)"
   ]
  },
  {
   "cell_type": "code",
   "execution_count": 21,
   "metadata": {},
   "outputs": [
    {
     "data": {
      "text/plain": [
       "array([['N', 'W', 'W', 'W'],\n",
       "       ['N', ' ', 'N', ' '],\n",
       "       ['E', 'E', 'E', ' ']], dtype='<U1')"
      ]
     },
     "execution_count": 21,
     "metadata": {},
     "output_type": "execute_result"
    }
   ],
   "source": [
    "pi"
   ]
  },
  {
   "cell_type": "code",
   "execution_count": 22,
   "metadata": {},
   "outputs": [
    {
     "data": {
      "text/plain": [
       "array([[ 0.78009917,  0.74531134,  0.70843026,  0.4905883 ],\n",
       "       [ 0.81968309,  0.        ,  0.68749633, -1.        ],\n",
       "       [ 0.85529879,  0.89580322,  0.93236641,  1.        ]])"
      ]
     },
     "execution_count": 22,
     "metadata": {},
     "output_type": "execute_result"
    }
   ],
   "source": [
    "V"
   ]
  },
  {
   "cell_type": "markdown",
   "metadata": {},
   "source": [
    "### 3) Compare the results obtained in 1) to those of 2)."
   ]
  },
  {
   "cell_type": "markdown",
   "metadata": {},
   "source": [
    "1) Takes 14 iterations  \n",
    "2) Takes 15 iterations\n",
    "\n",
    "If the number of states is less than 1000, then the 2) is preferred, but if the number of states is more than this value, then the 1) is preferred."
   ]
  }
 ],
 "metadata": {
  "kernelspec": {
   "display_name": "Python 3",
   "language": "python",
   "name": "python3"
  },
  "language_info": {
   "codemirror_mode": {
    "name": "ipython",
    "version": 3
   },
   "file_extension": ".py",
   "mimetype": "text/x-python",
   "name": "python",
   "nbconvert_exporter": "python",
   "pygments_lexer": "ipython3",
   "version": "3.7.3"
  }
 },
 "nbformat": 4,
 "nbformat_minor": 2
}
