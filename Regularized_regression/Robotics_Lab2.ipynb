{
 "cells": [
  {
   "cell_type": "markdown",
   "metadata": {},
   "source": [
    "# [Lab 2] Regularized regression"
   ]
  },
  {
   "cell_type": "code",
   "execution_count": 1,
   "metadata": {},
   "outputs": [],
   "source": [
    "import numpy as np\n",
    "import matplotlib.pyplot as plt\n",
    "from numpy.linalg import inv"
   ]
  },
  {
   "cell_type": "markdown",
   "metadata": {},
   "source": [
    "## 1. Download the data set for this lab from the course site available on campus.ece.fr, and divide the data in two parts: training data (70%) and test data.\n"
   ]
  },
  {
   "cell_type": "code",
   "execution_count": 2,
   "metadata": {},
   "outputs": [],
   "source": [
    "data = np.loadtxt(\"data_lab2.txt\")"
   ]
  },
  {
   "cell_type": "code",
   "execution_count": 3,
   "metadata": {},
   "outputs": [],
   "source": [
    "split = 70\n",
    "#np.random.shuffle(data)\n",
    "train, test = data[:split],data[split:]"
   ]
  },
  {
   "cell_type": "code",
   "execution_count": 4,
   "metadata": {},
   "outputs": [],
   "source": [
    "X_train = train[:,0]\n",
    "y_train = train[:,1]\n",
    "y_train = y_train.reshape(y_train.size,1)\n",
    "X_test = test[:,0]\n",
    "y_test = test[:,1]\n",
    "y_test = y_test.reshape(y_test.size,1)"
   ]
  },
  {
   "cell_type": "code",
   "execution_count": 5,
   "metadata": {},
   "outputs": [
    {
     "data": {
      "text/plain": [
       "Text(0.5,1,'data_lab2')"
      ]
     },
     "execution_count": 5,
     "metadata": {},
     "output_type": "execute_result"
    },
    {
     "data": {
      "image/png": "[encoded data removed]",
      "text/plain": [
       "<Figure size 432x288 with 1 Axes>"
      ]
     },
     "metadata": {
      "needs_background": "light"
     },
     "output_type": "display_data"
    }
   ],
   "source": [
    "plt.scatter(X_train,y_train,marker=\"+\")\n",
    "plt.scatter(X_test,y_test,marker=\"+\")\n",
    "plt.xlabel(\"X\")\n",
    "plt.ylabel(\"y\")\n",
    "\n",
    "plt.title(\"data_lab2\")"
   ]
  },
  {
   "cell_type": "code",
   "execution_count": 6,
   "metadata": {},
   "outputs": [],
   "source": [
    "X0 = np.zeros(X_test.size)+1\n",
    "X_test = np.stack((X0,X_test), axis=1)\n",
    "X0 = np.zeros(X_train.size)+1\n",
    "X_train = np.stack((X0,X_train), axis=1)"
   ]
  },
  {
   "cell_type": "markdown",
   "metadata": {},
   "source": [
    "## 2. Find the optimal regression parameters for the following types of hypothesis functions (using the closed-form solution):\n",
    "\n"
   ]
  },
  {
   "cell_type": "code",
   "execution_count": 7,
   "metadata": {},
   "outputs": [],
   "source": [
    "def closed_form(X, y):\n",
    "    thetas = np.dot(np.dot(inv(np.dot(X.T,X)),X.T),(y))\n",
    "    return thetas"
   ]
  },
  {
   "cell_type": "markdown",
   "metadata": {},
   "source": [
    "### a) unregularized linear\n"
   ]
  },
  {
   "cell_type": "code",
   "execution_count": 8,
   "metadata": {},
   "outputs": [
    {
     "name": "stdout",
     "output_type": "stream",
     "text": [
      "Theta 1 = [8.26760735]  Theta 0 = [0.18763866]\n"
     ]
    }
   ],
   "source": [
    "thetas_line = closed_form(X_train, y_train)\n",
    "print(\"Theta 1 =\", thetas_line[1], \" Theta 0 =\", thetas_line[0])"
   ]
  },
  {
   "cell_type": "markdown",
   "metadata": {},
   "source": [
    "### b) unregularized parabolic\n"
   ]
  },
  {
   "cell_type": "code",
   "execution_count": 9,
   "metadata": {},
   "outputs": [],
   "source": [
    "X_1 =train[:,0].reshape(70,1)"
   ]
  },
  {
   "cell_type": "code",
   "execution_count": 10,
   "metadata": {},
   "outputs": [],
   "source": [
    "X_2 = np.square(X_1)\n",
    "X_train_2  = np.concatenate((X_train, X_2), axis=1)"
   ]
  },
  {
   "cell_type": "code",
   "execution_count": 11,
   "metadata": {},
   "outputs": [
    {
     "name": "stdout",
     "output_type": "stream",
     "text": [
      "Theta 2 = [4.35480533] Theta 1 = [2.19727265]  Theta 0 = [1.5774796]\n"
     ]
    }
   ],
   "source": [
    "thetas_para = closed_form(X_train_2, y_train)\n",
    "print(\"Theta 2 =\", thetas_para[2], \"Theta 1 =\", thetas_para[1], \" Theta 0 =\", thetas_para[0])"
   ]
  },
  {
   "cell_type": "markdown",
   "metadata": {},
   "source": [
    "### c) unregularized 5th-order polynomial\n"
   ]
  },
  {
   "cell_type": "code",
   "execution_count": 12,
   "metadata": {},
   "outputs": [
    {
     "data": {
      "text/plain": [
       "(70, 6)"
      ]
     },
     "execution_count": 12,
     "metadata": {},
     "output_type": "execute_result"
    }
   ],
   "source": [
    "X_3 = np.power(X_1,3)\n",
    "X_train_3  = np.concatenate((X_train_2, X_3), axis=1)\n",
    "X_4 = np.power(X_1,4)\n",
    "X_train_3  = np.concatenate((X_train_3, X_4), axis=1)\n",
    "X_5 = np.power(X_1,5)\n",
    "X_train_3  = np.concatenate((X_train_3, X_5), axis=1)\n",
    "X_train_3.shape"
   ]
  },
  {
   "cell_type": "code",
   "execution_count": 13,
   "metadata": {
    "scrolled": true
   },
   "outputs": [
    {
     "name": "stdout",
     "output_type": "stream",
     "text": [
      "Theta 5 = [26.56182717] Theta 4 = [-91.43111654] Theta 3 = [107.37525222] Theta 2 = [-44.08589458]  Theta 1 = [8.42867414]  Theta 0 = [1.64250254]\n"
     ]
    }
   ],
   "source": [
    "thetas_5 = closed_form(X_train_3, y_train)\n",
    "print(\"Theta 5 =\", thetas_5[5],\"Theta 4 =\", thetas_5[4],\"Theta 3 =\", thetas_5[3], \"Theta 2 =\", thetas_5[2],\" Theta 1 =\", thetas_5[1], \" Theta 0 =\", thetas_5[0])"
   ]
  },
  {
   "cell_type": "markdown",
   "metadata": {},
   "source": [
    "### d) regularized 5th-order polynomial (RIDGE)\n",
    "\n"
   ]
  },
  {
   "cell_type": "code",
   "execution_count": 14,
   "metadata": {},
   "outputs": [],
   "source": [
    "def closed_form_reg(X, y, n, l1):\n",
    "    mat = np.eye(n+1, dtype=int)\n",
    "    mat[0,0] = 0\n",
    "    thetas = np.dot(np.dot(inv(np.dot(X.T,X)+l1*mat),X.T),(y))\n",
    "    return thetas"
   ]
  },
  {
   "cell_type": "code",
   "execution_count": 15,
   "metadata": {},
   "outputs": [
    {
     "name": "stdout",
     "output_type": "stream",
     "text": [
      "Theta 5 = [-0.50961234] Theta 4 = [0.67822765] Theta 3 = [1.5810248] Theta 2 = [2.14796948]  Theta 1 = [2.08606264]  Theta 0 = [1.94533825]\n"
     ]
    }
   ],
   "source": [
    "thetas_5r = closed_form_reg(X_train_3, y_train,5,1.8)\n",
    "print(\"Theta 5 =\", thetas_5r[5],\"Theta 4 =\", thetas_5r[4],\"Theta 3 =\", thetas_5r[3], \"Theta 2 =\", thetas_5r[2],\" Theta 1 =\", thetas_5r[1], \" Theta 0 =\", thetas_5r[0])"
   ]
  },
  {
   "cell_type": "markdown",
   "metadata": {},
   "source": [
    "## 3. Plot the training data as well as the fitted curves.\n"
   ]
  },
  {
   "cell_type": "code",
   "execution_count": 16,
   "metadata": {},
   "outputs": [
    {
     "data": {
      "text/plain": [
       "Text(0,0.5,'y')"
      ]
     },
     "execution_count": 16,
     "metadata": {},
     "output_type": "execute_result"
    },
    {
     "data": {
      "image/png": "[encoded data removed]",
      "text/plain": [
       "<Figure size 432x288 with 1 Axes>"
      ]
     },
     "metadata": {
      "needs_background": "light"
     },
     "output_type": "display_data"
    }
   ],
   "source": [
    "plt.title(\"Fitted curves & training examples\")\n",
    "x=np.arange(start=0,stop=2.1,step=0.01)\n",
    "plt.plot(x,x*thetas_line[1]+thetas_line[0], c = \"tab:grey\")\n",
    "plt.plot(x,(x**2)*thetas_para[2]+x*thetas_para[1]+thetas_para[0], c = \"tab:grey\", ls='--')\n",
    "plt.plot(x,(x**5)*thetas_5[5]+(x**4)*thetas_5[4]+(x**3)*thetas_5[3]+(x**2)*thetas_5[2]+x*thetas_5[1]+thetas_5[0], c = \"tab:grey\", ls=':')\n",
    "plt.plot(x,(x**5)*thetas_5r[5]+(x**4)*thetas_5r[4]+(x**3)*thetas_5r[3]+(x**2)*thetas_5r[2]+x*thetas_5r[1]+thetas_5r[0], c = \"tab:green\", ls=':')\n",
    "plt.scatter(X_train[:,1],y_train,marker=\"+\")\n",
    "plt.xlabel(\"X\")\n",
    "plt.ylabel(\"y\")"
   ]
  },
  {
   "cell_type": "markdown",
   "metadata": {},
   "source": [
    "## 4. Compute and compare the residuals (i.e., errors) between the training output and the pre-dicted training output for all the considered hypothesis functions.\n"
   ]
  },
  {
   "cell_type": "code",
   "execution_count": 17,
   "metadata": {},
   "outputs": [],
   "source": [
    "def hypothesis(X, thetas):\n",
    "    return np.dot(X,thetas)"
   ]
  },
  {
   "cell_type": "code",
   "execution_count": 18,
   "metadata": {},
   "outputs": [],
   "source": [
    "def mse(X,y,thetas):\n",
    "    predictions = hypothesis(X,thetas)\n",
    "    return (1/y.size)*np.sum(np.square(predictions-y))"
   ]
  },
  {
   "cell_type": "code",
   "execution_count": 19,
   "metadata": {},
   "outputs": [
    {
     "data": {
      "text/plain": [
       "array([3.00563464, 2.58472096, 2.51202689, 2.63850026])"
      ]
     },
     "execution_count": 19,
     "metadata": {},
     "output_type": "execute_result"
    }
   ],
   "source": [
    "MSE = []\n",
    "MSE = np.append(MSE,mse(X_train, y_train,thetas_line))\n",
    "MSE = np.append(MSE,mse(X_train_2, y_train,thetas_para))\n",
    "MSE = np.append(MSE,mse(X_train_3, y_train,thetas_5))\n",
    "MSE = np.append(MSE,mse(X_train_3, y_train,thetas_5r))\n",
    "MSE"
   ]
  },
  {
   "cell_type": "code",
   "execution_count": 20,
   "metadata": {},
   "outputs": [
    {
     "data": {
      "image/png": "[encoded data removed]",
      "text/plain": [
       "<Figure size 432x288 with 1 Axes>"
      ]
     },
     "metadata": {
      "needs_background": "light"
     },
     "output_type": "display_data"
    }
   ],
   "source": [
    "plt.title(\"MSE comparaison on training examples\")\n",
    "plt.ylabel(\"MSE\")\n",
    "x=np.arange(MSE.size)\n",
    "plt.bar(x, MSE)\n",
    "plt.xticks(x, ('Linear', 'Para', '5th','5th reg'))\n",
    "plt.show()\n"
   ]
  },
  {
   "cell_type": "markdown",
   "metadata": {},
   "source": [
    "## 5. Plot the test data as well as the fitted curves.\n"
   ]
  },
  {
   "cell_type": "code",
   "execution_count": 21,
   "metadata": {},
   "outputs": [
    {
     "data": {
      "text/plain": [
       "Text(0,0.5,'y')"
      ]
     },
     "execution_count": 21,
     "metadata": {},
     "output_type": "execute_result"
    },
    {
     "data": {
      "image/png": "[encoded data removed]",
      "text/plain": [
       "<Figure size 432x288 with 1 Axes>"
      ]
     },
     "metadata": {
      "needs_background": "light"
     },
     "output_type": "display_data"
    }
   ],
   "source": [
    "plt.title(\"Fitted curves & test examples\")\n",
    "x=np.arange(start=0,stop=2.1,step=0.01)\n",
    "plt.plot(x,x*thetas_line[1]+thetas_line[0], c = \"tab:grey\")\n",
    "plt.plot(x,(x**2)*thetas_para[2]+x*thetas_para[1]+thetas_para[0], c = \"tab:grey\", ls='--')\n",
    "plt.plot(x,(x**5)*thetas_5[5]+(x**4)*thetas_5[4]+(x**3)*thetas_5[3]+(x**2)*thetas_5[2]+x*thetas_5[1]+thetas_5[0], c = \"tab:grey\", ls=':')\n",
    "plt.plot(x,(x**5)*thetas_5r[5]+(x**4)*thetas_5r[4]+(x**3)*thetas_5r[3]+(x**2)*thetas_5r[2]+x*thetas_5r[1]+thetas_5r[0], c = \"tab:green\", ls=':')\n",
    "plt.scatter(X_test[:,1],y_test,marker=\"+\",c = \"tab:orange\")\n",
    "plt.xlabel(\"X\")\n",
    "plt.ylabel(\"y\")"
   ]
  },
  {
   "cell_type": "markdown",
   "metadata": {},
   "source": [
    "## 6. Compute and compare the residuals (i.e., errors) between the test output and the predicted test output for all the considered hypothesis functions."
   ]
  },
  {
   "cell_type": "code",
   "execution_count": 22,
   "metadata": {},
   "outputs": [],
   "source": [
    "X_1 = test[:,0].reshape(30,1)\n",
    "X_2 = np.square(X_1)\n",
    "X_test_2  = np.concatenate((X_test, X_2), axis=1)"
   ]
  },
  {
   "cell_type": "code",
   "execution_count": 23,
   "metadata": {},
   "outputs": [
    {
     "data": {
      "text/plain": [
       "(30, 6)"
      ]
     },
     "execution_count": 23,
     "metadata": {},
     "output_type": "execute_result"
    }
   ],
   "source": [
    "X_3 = np.power(X_1,3)\n",
    "X_test_3  = np.concatenate((X_test_2, X_3), axis=1)\n",
    "X_4 = np.power(X_1,4)\n",
    "X_test_3  = np.concatenate((X_test_3, X_4), axis=1)\n",
    "X_5 = np.power(X_1,5)\n",
    "X_test_3  = np.concatenate((X_test_3, X_5), axis=1)\n",
    "X_test_3.shape"
   ]
  },
  {
   "cell_type": "code",
   "execution_count": 24,
   "metadata": {},
   "outputs": [
    {
     "data": {
      "text/plain": [
       "array([ 11.91316311,   3.15216811, 790.40910238,   2.64698448])"
      ]
     },
     "execution_count": 24,
     "metadata": {},
     "output_type": "execute_result"
    }
   ],
   "source": [
    "MSE_2 = []\n",
    "MSE_2 = np.append(MSE_2,mse(X_test, y_test,thetas_line))\n",
    "MSE_2 = np.append(MSE_2,mse(X_test_2, y_test,thetas_para))\n",
    "MSE_2 = np.append(MSE_2,mse(X_test_3, y_test,thetas_5))\n",
    "MSE_2 = np.append(MSE_2,mse(X_test_3, y_test,thetas_5r))\n",
    "MSE_2"
   ]
  },
  {
   "cell_type": "code",
   "execution_count": 25,
   "metadata": {},
   "outputs": [
    {
     "data": {
      "image/png": "[encoded data removed]",
      "text/plain": [
       "<Figure size 432x288 with 1 Axes>"
      ]
     },
     "metadata": {
      "needs_background": "light"
     },
     "output_type": "display_data"
    }
   ],
   "source": [
    "plt.title(\"MSE comparaison on test examples\")\n",
    "plt.ylabel(\"MSE\")\n",
    "x=np.arange(MSE_2.size)\n",
    "plt.bar(x, MSE_2)\n",
    "plt.xticks(x, ('Linear', 'Parabolic', '5th','5th reg'))\n",
    "plt.show()"
   ]
  },
  {
   "cell_type": "code",
   "execution_count": null,
   "metadata": {},
   "outputs": [],
   "source": []
  }
 ],
 "metadata": {
  "kernelspec": {
   "display_name": "Python 3",
   "language": "python",
   "name": "python3"
  },
  "language_info": {
   "codemirror_mode": {
    "name": "ipython",
    "version": 3
   },
   "file_extension": ".py",
   "mimetype": "text/x-python",
   "name": "python",
   "nbconvert_exporter": "python",
   "pygments_lexer": "ipython3",
   "version": "3.7.3"
  }
 },
 "nbformat": 4,
 "nbformat_minor": 2
}
