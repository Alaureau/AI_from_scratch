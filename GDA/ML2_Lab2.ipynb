{
 "cells": [
  {
   "cell_type": "markdown",
   "metadata": {},
   "source": [
    "# [Lab] Gaussian Discriminative Analysis (GDA)"
   ]
  },
  {
   "cell_type": "code",
   "execution_count": 1,
   "metadata": {
    "ExecuteTime": {
     "end_time": "2019-10-13T13:32:24.936367Z",
     "start_time": "2019-10-13T13:32:24.774586Z"
    }
   },
   "outputs": [],
   "source": [
    "import numpy as np\n",
    "import matplotlib.pyplot as plt\n",
    "import random\n",
    "from IPython.display import clear_output\n",
    "import math\n",
    "from numpy.linalg import inv\n",
    "from numpy.linalg import det\n",
    "from numpy.linalg import norm"
   ]
  },
  {
   "cell_type": "markdown",
   "metadata": {},
   "source": [
    "## 2. Read the data file, considering 80% of data as the training set and the rest for the test set."
   ]
  },
  {
   "cell_type": "code",
   "execution_count": 2,
   "metadata": {
    "ExecuteTime": {
     "end_time": "2019-10-13T13:32:25.039890Z",
     "start_time": "2019-10-13T13:32:25.035172Z"
    }
   },
   "outputs": [],
   "source": [
    "data = np.genfromtxt('../data.csv', delimiter=',')"
   ]
  },
  {
   "cell_type": "code",
   "execution_count": 3,
   "metadata": {
    "ExecuteTime": {
     "end_time": "2019-10-13T13:32:25.398345Z",
     "start_time": "2019-10-13T13:32:25.395306Z"
    }
   },
   "outputs": [],
   "source": [
    "split = 80\n",
    "np.random.shuffle(data)\n",
    "train, test = data[:split],data[split:]"
   ]
  },
  {
   "cell_type": "markdown",
   "metadata": {},
   "source": [
    "## 3. Solve the classification problem using both methods that you learned in class (the training part):"
   ]
  },
  {
   "cell_type": "markdown",
   "metadata": {},
   "source": [
    "### a. Logistic regression (an example of discriminative models)"
   ]
  },
  {
   "cell_type": "code",
   "execution_count": 4,
   "metadata": {
    "ExecuteTime": {
     "end_time": "2019-10-13T13:59:56.814288Z",
     "start_time": "2019-10-13T13:59:56.811452Z"
    }
   },
   "outputs": [],
   "source": [
    "def hypothesis(X, thetas):\n",
    "    return 1/(1+np.exp(-np.dot(X,thetas)))"
   ]
  },
  {
   "cell_type": "code",
   "execution_count": 5,
   "metadata": {
    "ExecuteTime": {
     "end_time": "2019-10-13T13:32:25.796725Z",
     "start_time": "2019-10-13T13:32:25.791292Z"
    }
   },
   "outputs": [],
   "source": [
    "def log_likelihood(y,predictions):\n",
    "    ll = np.sum(y*np.log(predictions)+1-y*np.log(1-predictions))\n",
    "    return ll"
   ]
  },
  {
   "cell_type": "code",
   "execution_count": 6,
   "metadata": {
    "ExecuteTime": {
     "end_time": "2019-10-13T13:59:34.892325Z",
     "start_time": "2019-10-13T13:59:34.884114Z"
    }
   },
   "outputs": [],
   "source": [
    "def train_logistic_regression(X,y,thetas, alpha, epsilon, patience):\n",
    "    thetas_evo = [],[]\n",
    "    loglkh_evo = [] # List of log likelyhood evolution\n",
    "    loglkh= 0\n",
    "    delta_loglkh=0\n",
    "    n_iter = 0\n",
    "    stop = 0\n",
    "    \n",
    "    while (stop != patience):\n",
    "        n_iter+=1\n",
    "\n",
    "        predictions = hypothesis(X,thetas)                         # Update predictions\n",
    "        thetas = thetas + alpha*(np.dot(X.T,(y-predictions)))      #(2,1) = (2,1) - a((2,80)*((80,1)-(80,1)))\n",
    "        thetas_evo  = np.concatenate((thetas_evo, thetas), axis=1) #Store thetas evolution\n",
    "        \n",
    "        loglkh_old = loglkh                       # Store likelyhood\n",
    "        loglkh = log_likelihood(y,predictions)    # Update log likelihood\n",
    "        loglkh_evo = np.append(loglkh_evo,loglkh) # Store likelihood evolution\n",
    "        delta_loglkh_old = delta_loglkh           # Store likelihood difference\n",
    "        if(n_iter>1):\n",
    "            delta_loglkh=abs(loglkh - loglkh_old)  # Update likelihood difference\n",
    "        \n",
    "        if((delta_loglkh < epsilon) and (delta_loglkh_old < epsilon)): \n",
    "            stop+=1  #if the current and previous likelihood difference is lesser than espilon, increment the stopping variable\n",
    "        else :\n",
    "            stop = 0 # if log likelihood difference has improved or hasn't converged\n",
    "    return thetas_evo, loglkh_evo"
   ]
  },
  {
   "cell_type": "markdown",
   "metadata": {},
   "source": [
    "### b. Gaussian Discriminant Analysis (an example of generative models)"
   ]
  },
  {
   "cell_type": "markdown",
   "metadata": {},
   "source": [
    "#### Computes GDA parameters"
   ]
  },
  {
   "cell_type": "code",
   "execution_count": 7,
   "metadata": {},
   "outputs": [],
   "source": [
    "def compute_phi(Y):  # Scalar\n",
    "    return np.count_nonzero(Y)/len(Y)\n",
    "\n",
    "def compute_mu(X,Y): # return (2,1),(2,1)\n",
    "    num_0 = num_1 = np.array([[0],[0]])\n",
    "    denum_1 = denum_0 = 0\n",
    "    for i,y in enumerate(Y):\n",
    "        if (y == 0):\n",
    "            num_0  = X[i] + num_0 \n",
    "            denum_0 += 1\n",
    "        else:\n",
    "            num_1  = X[i] + num_1\n",
    "            denum_1 += 1\n",
    "    return (num_0/denum_0),(num_1/denum_1)\n",
    "\n",
    "def compute_sigma(X,Y,mu_0,mu_1):\n",
    "    sum_mu=0\n",
    "    for i,y in enumerate(Y):\n",
    "        if (y == 0):                            \n",
    "            sum_mu += (X[i]-mu_0)*(X[i]-mu_0).T # If y=0, Mu_0 is used\n",
    "        else:\n",
    "            sum_mu += (X[i]-mu_1)*(X[i]-mu_1).T # Else Mu_1 is used\n",
    "    return sum_mu/len(Y)"
   ]
  },
  {
   "cell_type": "markdown",
   "metadata": {},
   "source": [
    "#### Computes GDA probabilities"
   ]
  },
  {
   "cell_type": "code",
   "execution_count": 8,
   "metadata": {
    "ExecuteTime": {
     "end_time": "2019-10-13T13:32:26.622857Z",
     "start_time": "2019-10-13T13:32:26.618931Z"
    }
   },
   "outputs": [],
   "source": [
    "def compute_Px_y(x,y,mu, sigma): # Compute P(x|y) for one example\n",
    "    n = len(x)\n",
    "    a = 1/(((2*math.pi)**(n/2))*norm(sigma))  # Scalar\n",
    "    b = np.exp(np.dot(np.dot(-0.5*(x-mu).T,inv(sigma)),(x-mu))) #((2,1)-(2,1)).T * (2,2) * (2,2)-(2,1) = (1,1)\n",
    "    return a/b\n",
    "\n",
    "#predictions\n",
    "def compute_Py_x(x,y,phi,mu_0,mu_1,sigma):\n",
    "    Px_y0_Py = compute_Px_y(x,y,mu_0,sigma)*(1-phi) # P(x|y=0)*P(y=0)\n",
    "    Px_y1_Py = compute_Px_y(x,y,mu_1,sigma)*phi     # P(x|y=1)*P(y=1)\n",
    "    return np.array([Px_y0_Py,Px_y1_Py])        # P(x|y=0)*P(y) and P(x|y=1)*P(y)"
   ]
  },
  {
   "cell_type": "markdown",
   "metadata": {},
   "source": [
    "#### Computes GDA joint likelyhood"
   ]
  },
  {
   "cell_type": "code",
   "execution_count": 9,
   "metadata": {},
   "outputs": [],
   "source": [
    "#Define joint log likelihood depending on model parameters\n",
    "def joint_log_likelihood(X,Y,phi,mu_0,mu_1,sigma):\n",
    "    a = 1\n",
    "    for i,x in enumerate(X):\n",
    "        if (Y[i] == 0):\n",
    "            a = a*compute_Px_y(x,Y[i],mu_0,sigma)*(1-phi)\n",
    "        else:\n",
    "            a = a*compute_Px_y(x,Y[i],mu_1,sigma)*phi    \n",
    "    return np.log(a)"
   ]
  },
  {
   "cell_type": "markdown",
   "metadata": {},
   "source": [
    "#### Computes GDA "
   ]
  },
  {
   "cell_type": "code",
   "execution_count": 10,
   "metadata": {},
   "outputs": [],
   "source": [
    "def compute_GDA(X,Y):\n",
    "    mu_0 = mu_1 = 0\n",
    "    \n",
    "    phi = compute_phi(Y)                 # Compute Phi\n",
    "    mu_0, mu_1 = compute_mu(X,Y)         # Computes Mus\n",
    "    sigma = compute_sigma(X,Y,mu_0,mu_1) # Compute Sigma\n",
    "    \n",
    "    loglkh = joint_log_likelihood(X,Y,phi,mu_0,mu_1,sigma) # Compute joint log likelihood\n",
    "\n",
    "    return phi,mu_0,mu_1, sigma, loglkh"
   ]
  },
  {
   "cell_type": "markdown",
   "metadata": {},
   "source": [
    "#### Computes predictions"
   ]
  },
  {
   "cell_type": "code",
   "execution_count": 11,
   "metadata": {},
   "outputs": [],
   "source": [
    "def hypothesis_2(X,Y,phi,mu_0,mu_1,sigma):\n",
    "    predictions = []\n",
    "    for i,x in enumerate(X):\n",
    "        a,b = compute_Py_x(x, Y[i,0],phi,mu_0,mu_1,sigma)\n",
    "        c = np.argmin(np.array([a,b]))\n",
    "        predictions = np.append(predictions,c)\n",
    "    return predictions.reshape(Y.size,1)"
   ]
  },
  {
   "cell_type": "markdown",
   "metadata": {},
   "source": [
    "### Trainings"
   ]
  },
  {
   "cell_type": "code",
   "execution_count": 12,
   "metadata": {},
   "outputs": [],
   "source": [
    "X_train = train[:, [0, 1]] # Inputs are the first two columns\n",
    "y_train = train[:, [2]]    # Outputs are the last column\n",
    "X_train_r = X_train.reshape(len(X_train),2,1) #reshaped X_train"
   ]
  },
  {
   "cell_type": "code",
   "execution_count": 13,
   "metadata": {},
   "outputs": [
    {
     "data": {
      "text/plain": [
       "Text(0,0.5,'x1')"
      ]
     },
     "execution_count": 13,
     "metadata": {},
     "output_type": "execute_result"
    },
    {
     "data": {
      "image/png": "[encoded data removed]",
      "text/plain": [
       "<Figure size 432x288 with 1 Axes>"
      ]
     },
     "metadata": {
      "needs_background": "light"
     },
     "output_type": "display_data"
    }
   ],
   "source": [
    "colors=['tab:orange' if l==0 else 'tab:blue' for l in y_train]\n",
    "plt.scatter(X_train[:,0], X_train[:,1],s=100, color = colors, marker='+')\n",
    "plt.title('Train examples')\n",
    "plt.xlabel('x0')\n",
    "plt.ylabel('x1')"
   ]
  },
  {
   "cell_type": "markdown",
   "metadata": {},
   "source": [
    "#### Logistic Regression"
   ]
  },
  {
   "cell_type": "code",
   "execution_count": 14,
   "metadata": {
    "ExecuteTime": {
     "end_time": "2019-10-13T13:32:27.270297Z",
     "start_time": "2019-10-13T13:32:27.266087Z"
    }
   },
   "outputs": [],
   "source": [
    "epsilon = 0.001 # Convergence value\n",
    "patience = 3\n",
    "alpha = 0.001\n",
    "\n",
    "theta_0 = random.uniform(0, 1)\n",
    "theta_1 = random.uniform(0, 1)\n",
    "thetas = np.array([[theta_0],[theta_1]]) # Regroupement of all thetas"
   ]
  },
  {
   "cell_type": "code",
   "execution_count": 15,
   "metadata": {
    "ExecuteTime": {
     "end_time": "2019-10-13T14:00:06.250816Z",
     "start_time": "2019-10-13T14:00:01.913705Z"
    }
   },
   "outputs": [
    {
     "name": "stdout",
     "output_type": "stream",
     "text": [
      "Theta 0 =  6.2613740556788695 Theta 1 =  -11.003612306383529\n"
     ]
    }
   ],
   "source": [
    "thetas, likelihood_lr = train_logistic_regression(X_train,y_train,thetas, alpha, epsilon, patience)\n",
    "print(\"Theta 0 = \", thetas[0,-1],\"Theta 1 = \",thetas[1,-1])"
   ]
  },
  {
   "cell_type": "markdown",
   "metadata": {},
   "source": [
    "#### evolution of log likelihood"
   ]
  },
  {
   "cell_type": "code",
   "execution_count": 16,
   "metadata": {
    "ExecuteTime": {
     "end_time": "2019-10-13T13:34:13.727294Z",
     "start_time": "2019-10-13T13:34:13.579926Z"
    }
   },
   "outputs": [
    {
     "data": {
      "text/plain": [
       "[<matplotlib.lines.Line2D at 0x7faf96a59da0>]"
      ]
     },
     "execution_count": 16,
     "metadata": {},
     "output_type": "execute_result"
    },
    {
     "data": {
      "image/png": "[encoded data removed]",
      "text/plain": [
       "<Figure size 432x288 with 1 Axes>"
      ]
     },
     "metadata": {
      "needs_background": "light"
     },
     "output_type": "display_data"
    }
   ],
   "source": [
    "plt.title('Evolution of log likelihood')\n",
    "plt.xlabel('No. of iterations')\n",
    "plt.ylabel('Log likelihood')\n",
    "plt.plot(likelihood_lr)\n",
    "#plt.plot(likelihood_gda)"
   ]
  },
  {
   "cell_type": "code",
   "execution_count": 17,
   "metadata": {
    "ExecuteTime": {
     "end_time": "2019-10-13T13:34:18.815738Z",
     "start_time": "2019-10-13T13:34:18.675530Z"
    }
   },
   "outputs": [
    {
     "data": {
      "text/plain": [
       "Text(0,0.5,'Thetas')"
      ]
     },
     "execution_count": 17,
     "metadata": {},
     "output_type": "execute_result"
    },
    {
     "data": {
      "image/png": "[encoded data removed]",
      "text/plain": [
       "<Figure size 432x288 with 1 Axes>"
      ]
     },
     "metadata": {
      "needs_background": "light"
     },
     "output_type": "display_data"
    }
   ],
   "source": [
    "plt.title('Evolution of thetas')\n",
    "plt.plot(thetas[0,:])\n",
    "plt.plot(thetas[1,:], linestyle=':')\n",
    "plt.xlabel('iteration')\n",
    "plt.ylabel('Thetas')"
   ]
  },
  {
   "cell_type": "markdown",
   "metadata": {},
   "source": [
    "#### Gaussian Discriminant Analysis"
   ]
  },
  {
   "cell_type": "code",
   "execution_count": 18,
   "metadata": {},
   "outputs": [
    {
     "name": "stdout",
     "output_type": "stream",
     "text": [
      "Phi =  0.45 \n",
      "Mu 0 =  [[4.98181818]\n",
      " [3.40227273]] \n",
      "Mu 1 =  [[5.94166667]\n",
      " [2.77222222]] \n",
      "Sigma =  [[0.18641193 0.09029356]\n",
      " [0.09029356 0.12777494]] \n",
      "Joint log likelyhood =  [[-14.18599617]]\n"
     ]
    }
   ],
   "source": [
    "phi,mu_0,mu_1, sigma, likelihood_gda = compute_GDA(X_train_r,y_train)\n",
    "print(\"Phi = \", phi,\"\\nMu 0 = \", mu_0,\"\\nMu 1 = \", mu_1,\"\\nSigma = \", sigma,\"\\nJoint log likelyhood = \", likelihood_gda)"
   ]
  },
  {
   "cell_type": "markdown",
   "metadata": {},
   "source": [
    "## 4. Compare the results of training with the two methods."
   ]
  },
  {
   "cell_type": "markdown",
   "metadata": {},
   "source": [
    "### Confusion Matrix and F1 score"
   ]
  },
  {
   "cell_type": "code",
   "execution_count": 19,
   "metadata": {
    "ExecuteTime": {
     "end_time": "2019-10-13T14:29:51.816094Z",
     "start_time": "2019-10-13T14:29:51.809999Z"
    }
   },
   "outputs": [],
   "source": [
    "def confusion_matrix(y,predictions):\n",
    "    TP = FP = TN = FN = 0 #Initialize counters to zero\n",
    "    for i, pred in enumerate (predictions):\n",
    "        if(pred == 1):        # Positive\n",
    "            if(pred == y[i]): # True Positive\n",
    "                TP+=1\n",
    "            else:             # False Positive\n",
    "                FP+=1\n",
    "        else:                 # Negative\n",
    "            if(pred == y[i]): # True Negative\n",
    "                TN+=1\n",
    "            else:             # False Negative\n",
    "                FN+=1\n",
    "    return TP,FP,FN,TN\n",
    "\n",
    "def f1_score(TP,FP,FN,TN):\n",
    "    precision = TP/(TP+FP)\n",
    "    recall = TP/(TP+FN)\n",
    "    f1 = 2*((precision*recall)/(precision+recall))\n",
    "    return f1"
   ]
  },
  {
   "cell_type": "markdown",
   "metadata": {},
   "source": [
    "### Compute predictions and F1 score"
   ]
  },
  {
   "cell_type": "markdown",
   "metadata": {},
   "source": [
    "#### Logistic Regression:"
   ]
  },
  {
   "cell_type": "code",
   "execution_count": 20,
   "metadata": {},
   "outputs": [],
   "source": [
    "t = np.array([[thetas[0,-1]],[thetas[1,-1]]])\n",
    "predictions_lr = hypothesis(X_train,t)"
   ]
  },
  {
   "cell_type": "code",
   "execution_count": 21,
   "metadata": {},
   "outputs": [
    {
     "data": {
      "text/plain": [
       "Text(0,0.5,'x1')"
      ]
     },
     "execution_count": 21,
     "metadata": {},
     "output_type": "execute_result"
    },
    {
     "data": {
      "image/png": "[encoded data removed]",
      "text/plain": [
       "<Figure size 432x288 with 1 Axes>"
      ]
     },
     "metadata": {
      "needs_background": "light"
     },
     "output_type": "display_data"
    }
   ],
   "source": [
    "colors=['tab:orange' if l==0 else 'tab:blue' for l in np.round(predictions_lr)]\n",
    "plt.scatter(X_train[:,0], X_train[:,1],s=100, color = colors, marker='+')\n",
    "plt.title('Classification of training examples with Log Reg')\n",
    "plt.xlabel('x0')\n",
    "plt.ylabel('x1')"
   ]
  },
  {
   "cell_type": "code",
   "execution_count": 22,
   "metadata": {},
   "outputs": [
    {
     "name": "stdout",
     "output_type": "stream",
     "text": [
      "TP: 36  FP: 1  FN: 0  TN: 43\n",
      "Logistic regression f1_score = 0.9863013698630138\n"
     ]
    }
   ],
   "source": [
    "TP,FP,FN,TN = confusion_matrix(y_train,np.round(predictions_lr))\n",
    "print(\"TP:\",TP,\" FP:\",FP,\" FN:\",FN,\" TN:\",TN)\n",
    "print(\"Logistic regression f1_score =\", f1_score(TP,FP,FN,TN))"
   ]
  },
  {
   "cell_type": "markdown",
   "metadata": {},
   "source": [
    "#### Gaussian Discriminant Analysis:"
   ]
  },
  {
   "cell_type": "code",
   "execution_count": 23,
   "metadata": {},
   "outputs": [],
   "source": [
    "predictions_gda = hypothesis_2(X_train_r,y_train,phi,mu_0,mu_1,sigma)"
   ]
  },
  {
   "cell_type": "code",
   "execution_count": 24,
   "metadata": {},
   "outputs": [
    {
     "data": {
      "text/plain": [
       "Text(0,0.5,'x1')"
      ]
     },
     "execution_count": 24,
     "metadata": {},
     "output_type": "execute_result"
    },
    {
     "data": {
      "image/png": "[encoded data removed]",
      "text/plain": [
       "<Figure size 432x288 with 1 Axes>"
      ]
     },
     "metadata": {
      "needs_background": "light"
     },
     "output_type": "display_data"
    }
   ],
   "source": [
    "colors=['tab:orange' if l==0 else 'tab:blue' for l in predictions_gda]\n",
    "plt.scatter(X_train[:,0], X_train[:,1],s=100, color = colors, marker='+')\n",
    "plt.title('Classification of training examples with GDA')\n",
    "plt.xlabel('x0')\n",
    "plt.ylabel('x1')"
   ]
  },
  {
   "cell_type": "code",
   "execution_count": 25,
   "metadata": {},
   "outputs": [
    {
     "name": "stdout",
     "output_type": "stream",
     "text": [
      "TP: 36  FP: 0  FN: 0  TN: 44\n",
      "Gaussian Discriminant Analysis f1_score = 1.0\n"
     ]
    }
   ],
   "source": [
    "TP,FP,FN,TN = confusion_matrix(y_train,np.round(predictions_gda))\n",
    "print(\"TP:\",TP,\" FP:\",FP,\" FN:\",FN,\" TN:\",TN)\n",
    "print(\"Gaussian Discriminant Analysis f1_score =\", f1_score(TP,FP,FN,TN))"
   ]
  },
  {
   "cell_type": "markdown",
   "metadata": {},
   "source": [
    "## 5. Test the optimized parameters with the test data"
   ]
  },
  {
   "cell_type": "code",
   "execution_count": 26,
   "metadata": {
    "ExecuteTime": {
     "end_time": "2019-10-13T13:39:45.126199Z",
     "start_time": "2019-10-13T13:39:45.122736Z"
    }
   },
   "outputs": [],
   "source": [
    "X_test = test[:, [0, 1]] # Test inputs are the first two columns\n",
    "y_test = test[:, [2]]    # Test outputs are the last column"
   ]
  },
  {
   "cell_type": "code",
   "execution_count": 27,
   "metadata": {},
   "outputs": [
    {
     "data": {
      "text/plain": [
       "Text(0,0.5,'x1')"
      ]
     },
     "execution_count": 27,
     "metadata": {},
     "output_type": "execute_result"
    },
    {
     "data": {
      "image/png": "[encoded data removed]",
      "text/plain": [
       "<Figure size 432x288 with 1 Axes>"
      ]
     },
     "metadata": {
      "needs_background": "light"
     },
     "output_type": "display_data"
    }
   ],
   "source": [
    "colors=['tab:orange' if l==0 else 'tab:blue' for l in y_test]\n",
    "plt.scatter(X_test[:,0], X_test[:,1],s=100, color = colors, marker='+')\n",
    "plt.title('Test examples')\n",
    "plt.xlabel('x0')\n",
    "plt.ylabel('x1')"
   ]
  },
  {
   "cell_type": "markdown",
   "metadata": {},
   "source": [
    "### Compute predictions and F1 score on test examples"
   ]
  },
  {
   "cell_type": "markdown",
   "metadata": {},
   "source": [
    "#### Logistic Regression:"
   ]
  },
  {
   "cell_type": "code",
   "execution_count": 28,
   "metadata": {},
   "outputs": [],
   "source": [
    "t = np.array([[thetas[0,-1]],[thetas[1,-1]]])\n",
    "predictions_lr = hypothesis(X_test,t)"
   ]
  },
  {
   "cell_type": "code",
   "execution_count": 29,
   "metadata": {},
   "outputs": [
    {
     "data": {
      "text/plain": [
       "Text(0,0.5,'x1')"
      ]
     },
     "execution_count": 29,
     "metadata": {},
     "output_type": "execute_result"
    },
    {
     "data": {
      "image/png": "[encoded data removed]",
      "text/plain": [
       "<Figure size 432x288 with 1 Axes>"
      ]
     },
     "metadata": {
      "needs_background": "light"
     },
     "output_type": "display_data"
    }
   ],
   "source": [
    "colors=['tab:orange' if l==0 else 'tab:blue' for l in np.round(predictions_lr)]\n",
    "plt.scatter(X_test[:,0], X_test[:,1],s=100, color = colors, marker='+')\n",
    "plt.title('Logistic Regression on test examples')\n",
    "plt.xlabel('x0')\n",
    "plt.ylabel('x1')"
   ]
  },
  {
   "cell_type": "code",
   "execution_count": 31,
   "metadata": {},
   "outputs": [
    {
     "name": "stdout",
     "output_type": "stream",
     "text": [
      "TP: 6  FP: 8  FN: 1  TN: 5\n",
      "Logistic regression f1_score = 0.5714285714285714\n"
     ]
    }
   ],
   "source": [
    "TP,FP,FN,TN = confusion_matrix(y_train,np.round(predictions_lr))\n",
    "print(\"TP:\",TP,\" FP:\",FP,\" FN:\",FN,\" TN:\",TN)\n",
    "print(\"Logistic regression f1_score =\", f1_score(TP,FP,FN,TN))"
   ]
  },
  {
   "cell_type": "markdown",
   "metadata": {},
   "source": [
    "#### Gaussian Discriminant Analysis:"
   ]
  },
  {
   "cell_type": "code",
   "execution_count": 32,
   "metadata": {},
   "outputs": [],
   "source": [
    "predictions_gda = hypothesis_2(X_test.reshape(y_test.size,2,1),y_test,phi, mu_0,mu_1,sigma)"
   ]
  },
  {
   "cell_type": "code",
   "execution_count": 33,
   "metadata": {},
   "outputs": [
    {
     "data": {
      "text/plain": [
       "Text(0,0.5,'x1')"
      ]
     },
     "execution_count": 33,
     "metadata": {},
     "output_type": "execute_result"
    },
    {
     "data": {
      "image/png": "[encoded data removed]",
      "text/plain": [
       "<Figure size 432x288 with 1 Axes>"
      ]
     },
     "metadata": {
      "needs_background": "light"
     },
     "output_type": "display_data"
    }
   ],
   "source": [
    "colors=['tab:orange' if l==0 else 'tab:blue' for l in predictions_gda]\n",
    "plt.scatter(X_test[:,0], X_test[:,1],s=100, color = colors, marker='+')\n",
    "plt.title('Test examples')\n",
    "plt.xlabel('x0')\n",
    "plt.ylabel('x1')"
   ]
  },
  {
   "cell_type": "code",
   "execution_count": 34,
   "metadata": {},
   "outputs": [
    {
     "name": "stdout",
     "output_type": "stream",
     "text": [
      "TP: 6  FP: 8  FN: 1  TN: 5\n",
      "Gaussian Discriminant Analysis f1_score = 0.5714285714285714\n"
     ]
    }
   ],
   "source": [
    "TP,FP,FN,TN = confusion_matrix(y_train,np.round(predictions_gda))\n",
    "print(\"TP:\",TP,\" FP:\",FP,\" FN:\",FN,\" TN:\",TN)\n",
    "print(\"Gaussian Discriminant Analysis f1_score =\", f1_score(TP,FP,FN,TN))"
   ]
  },
  {
   "cell_type": "code",
   "execution_count": 35,
   "metadata": {},
   "outputs": [
    {
     "data": {
      "text/plain": [
       "Text(0,0.5,'x1')"
      ]
     },
     "execution_count": 35,
     "metadata": {},
     "output_type": "execute_result"
    },
    {
     "data": {
      "image/png": "[encoded data removed]",
      "text/plain": [
       "<Figure size 432x288 with 1 Axes>"
      ]
     },
     "metadata": {
      "needs_background": "light"
     },
     "output_type": "display_data"
    }
   ],
   "source": [
    "colors=['tab:orange' if l==0 else 'tab:blue' for l in y_test]\n",
    "plt.scatter(X_test[:,0], X_test[:,1],s=100, color = colors, marker=7)\n",
    "colors=['tab:green' if l==0 else 'tab:red' for l in np.round(predictions_lr)]\n",
    "plt.scatter(X_test[:,0], X_test[:,1],s=100, color = colors, marker=4)\n",
    "colors=['tab:purple' if l==0 else 'tab:pink' for l in predictions_gda]\n",
    "plt.scatter(X_test[:,0], X_test[:,1],s=100, color = colors, marker=5)\n",
    "plt.title('Test examples')\n",
    "plt.xlabel('x0')\n",
    "plt.ylabel('x1')"
   ]
  },
  {
   "cell_type": "markdown",
   "metadata": {},
   "source": [
    "### Heatmap, white is 0, black is 1"
   ]
  },
  {
   "cell_type": "code",
   "execution_count": 36,
   "metadata": {},
   "outputs": [
    {
     "data": {
      "text/plain": [
       "(900, 2)"
      ]
     },
     "execution_count": 36,
     "metadata": {},
     "output_type": "execute_result"
    }
   ],
   "source": [
    "x = np.arange(4, 7, 0.1)\n",
    "y = np.arange(2, 5, 0.1)\n",
    "xx, yy = np.meshgrid(x, y)\n",
    "coord = np.concatenate((xx.reshape(900,1), yy.reshape(900,1)), axis=1)\n",
    "coord.shape"
   ]
  },
  {
   "cell_type": "code",
   "execution_count": 37,
   "metadata": {},
   "outputs": [
    {
     "data": {
      "image/png": "[encoded data removed]",
      "text/plain": [
       "<Figure size 432x288 with 1 Axes>"
      ]
     },
     "metadata": {
      "needs_background": "light"
     },
     "output_type": "display_data"
    }
   ],
   "source": [
    "plt.imshow(hypothesis(coord,t).reshape(30,30), cmap='binary')\n",
    "plt.gca().invert_yaxis()"
   ]
  }
 ],
 "metadata": {
  "kernelspec": {
   "display_name": "Python 3",
   "language": "python",
   "name": "python3"
  },
  "language_info": {
   "codemirror_mode": {
    "name": "ipython",
    "version": 3
   },
   "file_extension": ".py",
   "mimetype": "text/x-python",
   "name": "python",
   "nbconvert_exporter": "python",
   "pygments_lexer": "ipython3",
   "version": "3.7.3"
  }
 },
 "nbformat": 4,
 "nbformat_minor": 2
}
