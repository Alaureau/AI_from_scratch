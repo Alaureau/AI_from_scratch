{
 "cells": [
  {
   "cell_type": "markdown",
   "metadata": {},
   "source": [
    "# [Homework] Gaussian Mixture Model (GMM)"
   ]
  },
  {
   "cell_type": "code",
   "execution_count": 1,
   "metadata": {},
   "outputs": [],
   "source": [
    "import numpy as np\n",
    "import matplotlib.pyplot as plt\n",
    "from matplotlib.colors import LogNorm\n",
    "from numpy.linalg import norm\n",
    "import random"
   ]
  },
  {
   "cell_type": "markdown",
   "metadata": {},
   "source": [
    "### Implement yourself the GMM algorithm for Example 1 (density estimation for a Gaussian mixture) given in the Lab 3 document."
   ]
  },
  {
   "cell_type": "code",
   "execution_count": 2,
   "metadata": {},
   "outputs": [],
   "source": [
    "n = 2                     # number of clusters\n",
    "n_samples = 300           # number of samples\n",
    "np.random.seed(132323540) # generate random sample, two components\n",
    "shifted_gaussian = np.random.randn(n_samples, 2) + np.array([20, 20]) # generate spherical data centered on (20, 20)\n",
    "C = np.array([[0., -0.7], [3.5, .7]]) # generate zero centered stretched Gaussian data\n",
    "stretched_gaussian = np.dot(np.random.randn(n_samples, 2), C)\n",
    "X_train = np.vstack([shifted_gaussian, stretched_gaussian]) # concatenate the two datasets into the final training set"
   ]
  },
  {
   "cell_type": "code",
   "execution_count": 15,
   "metadata": {},
   "outputs": [
    {
     "data": {
      "text/plain": [
       "(600, 2)"
      ]
     },
     "execution_count": 15,
     "metadata": {},
     "output_type": "execute_result"
    }
   ],
   "source": [
    "X_train.shape"
   ]
  },
  {
   "cell_type": "code",
   "execution_count": 4,
   "metadata": {},
   "outputs": [
    {
     "data": {
      "text/plain": [
       "Text(0,0.5,'x1')"
      ]
     },
     "execution_count": 4,
     "metadata": {},
     "output_type": "execute_result"
    },
    {
     "data": {
      "image/png": "[encoded data removed]",
      "text/plain": [
       "<Figure size 432x288 with 1 Axes>"
      ]
     },
     "metadata": {
      "needs_background": "light"
     },
     "output_type": "display_data"
    }
   ],
   "source": [
    "plt.scatter(X_train[:,0], X_train[:,1], marker='+')\n",
    "plt.title('Training set')\n",
    "plt.xlabel('x0')\n",
    "plt.ylabel('x1')"
   ]
  },
  {
   "cell_type": "markdown",
   "metadata": {},
   "source": [
    "### GMM algorithm (Expectation - Maximization)"
   ]
  },
  {
   "cell_type": "markdown",
   "metadata": {},
   "source": [
    "##### 1. Expectation step"
   ]
  },
  {
   "cell_type": "code",
   "execution_count": 5,
   "metadata": {},
   "outputs": [],
   "source": [
    "def initialize_clusters(X, n_clusters):\n",
    "    clusters = []\n",
    "    idx = np.arange(X.shape[0])\n",
    "    for i in range(n_clusters):\n",
    "        clusters.append({\n",
    "            'phi_k': 1.0 / n_clusters,\n",
    "            'mu_k': 0.0,\n",
    "            'sigma_k': np.identity(X.shape[1], dtype=np.float64)\n",
    "        })\n",
    "    return clusters"
   ]
  },
  {
   "cell_type": "code",
   "execution_count": 6,
   "metadata": {},
   "outputs": [
    {
     "name": "stdout",
     "output_type": "stream",
     "text": [
      "[{'phi_k': 0.5, 'mu_k': 0.0, 'sigma_k': array([[1., 0.],\n",
      "       [0., 1.]])}, {'phi_k': 0.5, 'mu_k': 0.0, 'sigma_k': array([[1., 0.],\n",
      "       [0., 1.]])}]\n"
     ]
    }
   ],
   "source": [
    "clusters = initialize_clusters(X_train,2)\n",
    "print(clusters)"
   ]
  },
  {
   "cell_type": "code",
   "execution_count": 7,
   "metadata": {},
   "outputs": [],
   "source": [
    "def gaussian(X, mu, sigma): # Return the gaussian distribution density (pdf)\n",
    "    n = X.shape[1]\n",
    "    diff = X - mu\n",
    "    a = 1 / ((2 * np.pi) ** (n / 2) * np.linalg.det(sigma) ** 0.5)\n",
    "    c = np.dot(diff, np.linalg.inv(sigma)) # (600,2)*(2,2)\n",
    "    b = np.exp(-0.5 * np.dot(c, diff.T))   # (600,2)*(2,600)\n",
    "    print(\"a = \",a)\n",
    "    print(\"b = \",b.shape)\n",
    "    print(\"c = \", c.shape)\n",
    "    return a * b"
   ]
  },
  {
   "cell_type": "code",
   "execution_count": 8,
   "metadata": {},
   "outputs": [],
   "source": [
    "# Compute w_nk as defined in the lecture (k -> the cluster, i -> training examples)\n",
    "def expectation_step(X, clusters):\n",
    "    total = np.zeros((X.shape[0], 1), dtype=np.float64)\n",
    "    for cluster in clusters:                      # For each cluster passed in parameter\n",
    "        phi_k = cluster['phi_k']                  #   Get its parameters\n",
    "        mu_k = cluster['mu_k']\n",
    "        sigma_k = cluster['sigma_k']\n",
    "        \n",
    "        w_ik = phi_k * gaussian(X, mu_k, sigma_k) #   Compute w_ik using the gaussian density function\n",
    "        w_ik = np.diagonal(w_ik).reshape(-1,1)    #   on reshape pcq sinon ya des galères de dimensions après lol\n",
    "        cluster['w_ik'] = w_ik                    #   Update w_ik in the cluster\n",
    "        \n",
    "        total += w_ik                             #   Compute the total of the sum of w_ik\n",
    "        \n",
    "    for cluster in clusters:                      # when all the w_ik are computed, divide each one of them by the total\n",
    "        cluster['w_ik'] = cluster['w_ik'] / total #   divide it by the total sum of w_ik\n",
    "    return clusters"
   ]
  },
  {
   "cell_type": "code",
   "execution_count": 9,
   "metadata": {},
   "outputs": [
    {
     "name": "stdout",
     "output_type": "stream",
     "text": [
      "a =  0.15915494309189535\n",
      "b =  (600, 600)\n",
      "c =  (600, 2)\n",
      "a =  0.15915494309189535\n",
      "b =  (600, 600)\n",
      "c =  (600, 2)\n"
     ]
    }
   ],
   "source": [
    "clusters = expectation_step(X_train,clusters)"
   ]
  },
  {
   "cell_type": "markdown",
   "metadata": {},
   "source": [
    "##### 2. Maximization step"
   ]
  },
  {
   "cell_type": "code",
   "execution_count": 10,
   "metadata": {},
   "outputs": [],
   "source": [
    "def maximization_step(X, clusters): # Update the estimated parameters using MLE\n",
    "    I = float(X.shape[0])\n",
    "  \n",
    "    for cluster in clusters:\n",
    "        sigma_k = np.zeros((X.shape[1], X.shape[1]))  # Initialize the covariance matrix sigma\n",
    "        \n",
    "        w_ik = cluster['w_ik']                        # Get the soft weight w_ik of the current cluster\n",
    "        sum_w_ik = np.sum(w_ik, axis=0)               # Sum all the soft weights\n",
    "        phi_k = sum_w_ik / I                          # Compute phi\n",
    "        mu_k = np.sum(w_ik * X, axis=0) / sum_w_ik    # Compute mu\n",
    "        \n",
    "        sigma_k = 0 # Non ?\n",
    "        for i in range(X.shape[0]):\n",
    "            diff = X[i] - mu_k\n",
    "            sigma_k += w_ik[i] * np.dot(diff, diff.T) # Compute sigma\n",
    "        sigma_k /= sum_w_ik                           # Divide the previously found sigma by the total of w_ik\n",
    "        \n",
    "        cluster['phi_k'] = phi_k                      # Update cluster parameters\n",
    "        cluster['mu_k'] = mu_k\n",
    "        cluster['sigma_k'] = sigma_k\n",
    "    return clusters"
   ]
  },
  {
   "cell_type": "code",
   "execution_count": 11,
   "metadata": {},
   "outputs": [],
   "source": [
    "clusters = maximization_step(X_train,clusters)"
   ]
  },
  {
   "cell_type": "markdown",
   "metadata": {},
   "source": [
    "##### Log likelihood (?)"
   ]
  },
  {
   "cell_type": "code",
   "execution_count": 12,
   "metadata": {},
   "outputs": [],
   "source": [
    "#Quelle metric utiliser dans le cas de GMM?"
   ]
  },
  {
   "cell_type": "markdown",
   "metadata": {},
   "source": [
    "##### Train loop"
   ]
  },
  {
   "cell_type": "code",
   "execution_count": 13,
   "metadata": {},
   "outputs": [],
   "source": [
    "def train(X,n_clusters,patience):\n",
    "    clusters = initialize_clusters(X, n_clusters) #initialize the clusters\n",
    "    clusters_evo = []\n",
    "    while (stop != patience):     \n",
    "        clusters = expectation_step(X, clusters)  # Compute the w_ik values\n",
    "        clusters = maximization_step(X, clusters) # Optimize the parameters according to the previous w_ik value\n",
    "        #compute the convergence criteria\n",
    "        # ON UTILISE QUOI ?? LOG LIKELIHOOD?\n",
    "        cluster_evo = np.append(cluster_evo,clusters)\n",
    "    return clusters,clusters_evo"
   ]
  },
  {
   "cell_type": "markdown",
   "metadata": {},
   "source": [
    "##### Plot the results"
   ]
  },
  {
   "cell_type": "markdown",
   "metadata": {},
   "source": [
    "1. Convergence"
   ]
  },
  {
   "cell_type": "code",
   "execution_count": null,
   "metadata": {},
   "outputs": [],
   "source": [
    "np"
   ]
  },
  {
   "cell_type": "markdown",
   "metadata": {},
   "source": [
    "2. Visualize the clusters"
   ]
  },
  {
   "cell_type": "code",
   "execution_count": 14,
   "metadata": {},
   "outputs": [
    {
     "ename": "SyntaxError",
     "evalue": "invalid syntax (<ipython-input-14-d79a614a6dc7>, line 6)",
     "output_type": "error",
     "traceback": [
      "\u001b[0;36m  File \u001b[0;32m\"<ipython-input-14-d79a614a6dc7>\"\u001b[0;36m, line \u001b[0;32m6\u001b[0m\n\u001b[0;31m    Z = #-clf.score_samples(XX) #Compute the weighted log probabilities for each sample. Log probabilities of each data point in X\u001b[0m\n\u001b[0m                                                                                                                                  ^\u001b[0m\n\u001b[0;31mSyntaxError\u001b[0m\u001b[0;31m:\u001b[0m invalid syntax\n"
     ]
    }
   ],
   "source": [
    "# display predicted scores by the model as a contour plot\n",
    "x = np.linspace(-20., 30.)\n",
    "y = np.linspace(-20., 40.)\n",
    "X, Y = np.meshgrid(x, y)\n",
    "XX = np.array([X.ravel(), Y.ravel()]).T\n",
    "Z = #-clf.score_samples(XX) #Compute the weighted log probabilities for each sample. Log probabilities of each data point in X\n",
    "Z = Z.reshape(X.shape)\n",
    "CS = plt.contour(X, Y, Z, norm=LogNorm(vmin=1.0, vmax=1000.0),\n",
    "levels=np.logspace(0, 3, 10))\n",
    "CB = plt.colorbar(CS, shrink=0.8, extend=’both’)\n",
    "plt.scatter(X_train[:, 0], X_train[:, 1], .8)\n",
    "plt.title(’Negative log-likelihood predicted by a GMM’)\n",
    "plt.axis(’tight’)\n",
    "plt.show()"
   ]
  },
  {
   "cell_type": "code",
   "execution_count": 16,
   "metadata": {},
   "outputs": [],
   "source": [
    "a = np.array([[20],[18.88]])"
   ]
  },
  {
   "cell_type": "code",
   "execution_count": 17,
   "metadata": {},
   "outputs": [
    {
     "data": {
      "text/plain": [
       "array([[400.    , 377.6   ],\n",
       "       [377.6   , 356.4544]])"
      ]
     },
     "execution_count": 17,
     "metadata": {},
     "output_type": "execute_result"
    }
   ],
   "source": [
    "np.dot(a,a.T)"
   ]
  },
  {
   "cell_type": "code",
   "execution_count": null,
   "metadata": {},
   "outputs": [],
   "source": [
    "a = \n",
    "b =\n",
    "c = "
   ]
  }
 ],
 "metadata": {
  "kernelspec": {
   "display_name": "Python 3",
   "language": "python",
   "name": "python3"
  },
  "language_info": {
   "codemirror_mode": {
    "name": "ipython",
    "version": 3
   },
   "file_extension": ".py",
   "mimetype": "text/x-python",
   "name": "python",
   "nbconvert_exporter": "python",
   "pygments_lexer": "ipython3",
   "version": "3.7.3"
  }
 },
 "nbformat": 4,
 "nbformat_minor": 2
}
